{
 "cells": [
  {
   "cell_type": "code",
   "execution_count": 1,
   "metadata": {},
   "outputs": [],
   "source": [
    "import numpy as np\n",
    "import matplotlib.pyplot as plt\n",
    "from emitter import Particle, Emitter"
   ]
  },
  {
   "cell_type": "code",
   "execution_count": 26,
   "metadata": {},
   "outputs": [],
   "source": [
    "cmin = 0\n",
    "cmax = 2\n",
    "n_points = 50"
   ]
  },
  {
   "cell_type": "code",
   "execution_count": 27,
   "metadata": {},
   "outputs": [],
   "source": [
    "c = np.linspace(cmin, cmax, n_points)"
   ]
  },
  {
   "cell_type": "code",
   "execution_count": 28,
   "metadata": {},
   "outputs": [],
   "source": [
    "h = np.ones((n_points, 1))\n",
    "h_vel = np.zeros_like(h)\n",
    "for i in range(n_points // 2):\n",
    "    h[i] = 3"
   ]
  },
  {
   "cell_type": "code",
   "execution_count": 54,
   "metadata": {},
   "outputs": [],
   "source": [
    "def h_update(h, h_vel, damping=.76):\n",
    "    for i in range(n_points):\n",
    "        left_i = max(0, i - 1)\n",
    "        right_i = min(n_points - 1, i + 1)\n",
    "        h_vel[i] += (h[left_i] + h[right_i]) / 4 - h[i]\n",
    "        h_vel[i] *= damping\n",
    "        h[i] += h_vel[i]\n",
    "    return h, h_vel"
   ]
  },
  {
   "cell_type": "code",
   "execution_count": 59,
   "metadata": {},
   "outputs": [],
   "source": [
    "def show_field(h, h_vel):\n",
    "    for _, hv in zip(h, h_vel):\n",
    "        print(f\"{_} [{hv}]\")"
   ]
  },
  {
   "cell_type": "code",
   "execution_count": 60,
   "metadata": {},
   "outputs": [],
   "source": [
    "import bqplot\n",
    "from bqplot import *\n",
    "from bqplot import pyplot as plt\n",
    "import ipywidgets as widgets"
   ]
  },
  {
   "cell_type": "code",
   "execution_count": 61,
   "metadata": {},
   "outputs": [],
   "source": [
    "h = np.ones((n_points, 1))\n",
    "h_vel = np.zeros_like(h)\n",
    "for i in range(n_points // 2):\n",
    "    h[i] = 3"
   ]
  },
  {
   "cell_type": "code",
   "execution_count": 62,
   "metadata": {},
   "outputs": [
    {
     "data": {
      "application/vnd.jupyter.widget-view+json": {
       "model_id": "bd6ea5b05d2a4b37b6beefee4d300923",
       "version_major": 2,
       "version_minor": 0
      },
      "text/plain": [
       "VBox(children=(HBox(children=(Play(value=1, interval=150, max=1000, min=1), IntSlider(value=0, max=1000))), Fi…"
      ]
     },
     "metadata": {},
     "output_type": "display_data"
    }
   ],
   "source": [
    "x_ord = OrdinalScale()\n",
    "y_sc = LinearScale(min=-4, max=4)\n",
    "\n",
    "bar = Bars(x=c, y=h[:, 0], scales={'x': x_ord, 'y': y_sc})\n",
    "ax_x = Axis(scale=x_ord, visible=False)\n",
    "ax_y = Axis(scale=y_sc, visible=False, orientation='vertical', max=4, min=-4)\n",
    "fig = Figure(marks=[bar], axes=[ax_x, ax_y], padding_x=0.025, padding_y=0.025, animation_duration=100)\n",
    "\n",
    "\n",
    "def on_value_change(change):\n",
    "    global h, h_vel\n",
    "    t = change['new']\n",
    "    if t == 1:\n",
    "        h = np.ones((n_points, 1))\n",
    "        h_vel = np.zeros_like(h)\n",
    "        for i in range(n_points // 2):\n",
    "            h[i] = 3\n",
    "        y = np.copy(h[:, 0])\n",
    "    if t > 1:\n",
    "#         show_field(h, h_vel)\n",
    "        v, _ = h_update(h, h_vel)\n",
    "        bar.y = np.copy(v[:, 0])\n",
    "        bar.x = c\n",
    "\n",
    "slider = widgets.IntSlider(min=0, max=1000, step=1, continuos_update=True)\n",
    "play = widgets.Play(min=1, max=1000, interval=150)\n",
    "out = widgets.Output()\n",
    "slider.observe(on_value_change, 'value')\n",
    "widgets.jslink((play, 'value'), (slider, 'value'))\n",
    "widgets.VBox([widgets.HBox([play, slider]), fig, out])"
   ]
  }
 ],
 "metadata": {
  "kernelspec": {
   "display_name": "Python 3",
   "language": "python",
   "name": "python3"
  },
  "language_info": {
   "codemirror_mode": {
    "name": "ipython",
    "version": 3
   },
   "file_extension": ".py",
   "mimetype": "text/x-python",
   "name": "python",
   "nbconvert_exporter": "python",
   "pygments_lexer": "ipython3",
   "version": "3.6.2"
  }
 },
 "nbformat": 4,
 "nbformat_minor": 2
}
