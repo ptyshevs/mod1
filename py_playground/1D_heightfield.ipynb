{
 "cells": [
  {
   "cell_type": "code",
   "execution_count": 12,
   "metadata": {},
   "outputs": [],
   "source": [
    "import numpy as np\n",
    "import matplotlib.pyplot as plt\n",
    "from emitter import Particle, Emitter"
   ]
  },
  {
   "cell_type": "code",
   "execution_count": 13,
   "metadata": {},
   "outputs": [],
   "source": [
    "cmin = 0\n",
    "cmax = 2\n",
    "n_points = 40"
   ]
  },
  {
   "cell_type": "code",
   "execution_count": 14,
   "metadata": {},
   "outputs": [],
   "source": [
    "c = np.linspace(cmin, cmax, n_points)"
   ]
  },
  {
   "cell_type": "code",
   "execution_count": 15,
   "metadata": {},
   "outputs": [],
   "source": [
    "f = lambda x: -x**2 + 2.1 * x - .3\n",
    "y = f(c)\n",
    "y = [max(0, _) for _ in y]"
   ]
  },
  {
   "cell_type": "code",
   "execution_count": 16,
   "metadata": {},
   "outputs": [],
   "source": [
    "h = np.ones((n_points, 1))\n",
    "h_vel = np.zeros_like(h)\n",
    "for i in range(n_points // 2):\n",
    "    h[i] = 3"
   ]
  },
  {
   "cell_type": "code",
   "execution_count": 17,
   "metadata": {},
   "outputs": [],
   "source": [
    "def h_update(h, h_vel, y, damping=.99, c2=1, h2=2, dt=.45):\n",
    "    h_new = np.copy(h)\n",
    "    h_vel_new = np.copy(h_vel)\n",
    "    for i in range(n_points):\n",
    "        left_i = max(0, i - 1)\n",
    "        right_i = min(n_points - 1, i + 1)\n",
    "        Vleft, Vright = 0, 0\n",
    "        if h[left_i] > 0:\n",
    "            if (h[left_i] + y[left_i]) > (h[i] + y[i]):\n",
    "                Vleft = min((h[left_i] + y[left_i]) - (h[i] + y[i]), h[left_i])\n",
    "        if h[right_i] > 0:\n",
    "            if (h[right_i] + y[right_i]) > (h[i] + y[i]):\n",
    "                Vright = min((h[right_i] + y[right_i]) - (h[i] + y[i]), h[right_i])\n",
    "        Vcur = h[i]\n",
    "        h_new[left_i] -= Vleft * dt\n",
    "        h_new[i] += Vleft * dt\n",
    "        h_new[right_i] -= Vright * dt\n",
    "        h_new[i] += Vright * dt\n",
    "    return h_new, h_vel_new"
   ]
  },
  {
   "cell_type": "code",
   "execution_count": 18,
   "metadata": {},
   "outputs": [],
   "source": [
    "def show_field(h, h_vel):\n",
    "    for _, hv in zip(h, h_vel):\n",
    "        print(f\"{_} [{hv}]\")"
   ]
  },
  {
   "cell_type": "code",
   "execution_count": 19,
   "metadata": {},
   "outputs": [],
   "source": [
    "import bqplot\n",
    "from bqplot import *\n",
    "from bqplot import pyplot as plt\n",
    "import ipywidgets as widgets"
   ]
  },
  {
   "cell_type": "code",
   "execution_count": 20,
   "metadata": {},
   "outputs": [],
   "source": [
    "h = np.zeros((n_points, 1))\n",
    "h_vel = np.zeros_like(h)\n",
    "# for i in range(n_points // 2):\n",
    "#     h[i] = .1"
   ]
  },
  {
   "cell_type": "code",
   "execution_count": 21,
   "metadata": {},
   "outputs": [
    {
     "data": {
      "application/vnd.jupyter.widget-view+json": {
       "model_id": "eee417f42e09464f8726d738a8f94a18",
       "version_major": 2,
       "version_minor": 0
      },
      "text/plain": [
       "VBox(children=(HBox(children=(Play(value=1, interval=30, max=1000, min=1), IntSlider(value=0, max=1000))), Fig…"
      ]
     },
     "metadata": {},
     "output_type": "display_data"
    }
   ],
   "source": [
    "x_ord = OrdinalScale()\n",
    "y_sc = LinearScale(min=0, max=4)\n",
    "\n",
    "# bar = Bars(x=c, y=h[:, 0], scales={'x': x_ord, 'y': y_sc}, padding=0, stroke='steelblue', type='stacked')\n",
    "bars = Bars(x=c, y=np.vstack([y, h[:, 0]]), scales={'x': x_ord, 'y': y_sc}, colors=[\"yellow\", \"steelblue\"], type='stacked')\n",
    "ax_x = Axis(scale=x_ord, visible=False)\n",
    "ax_y = Axis(scale=y_sc, visible=True, orientation='vertical')\n",
    "fig = Figure(marks=[bars], axes=[ax_x, ax_y], padding_x=0.025, padding_y=0.025, animation_duration=100)\n",
    "\n",
    "\n",
    "def on_value_change(change):\n",
    "    global h, h_vel, y, c\n",
    "    with out:\n",
    "        t = change['new']\n",
    "        if t == 1:\n",
    "            h = np.zeros((n_points, 1))\n",
    "            h_vel = np.zeros_like(h)\n",
    "            y = f(c)\n",
    "            y = [max(0, _) for _ in y]\n",
    "    #         for i in range(n_points // 2):\n",
    "    #             h[i] = .1\n",
    "        if t > 1:\n",
    "            h, h_vel = h_update(h, h_vel, y)\n",
    "            bars.y = np.vstack([bars.y[0], np.copy(h[:, 0])])\n",
    "#             bar.x = c\n",
    "        if t % 50 == 0 and t < 700:\n",
    "#             with out:\n",
    "            # emit particle on the left side\n",
    "                h[1] += 1\n",
    "\n",
    "slider = widgets.IntSlider(min=0, max=1000, step=1, continuos_update=True)\n",
    "play = widgets.Play(min=1, max=1000, interval=30)\n",
    "out = widgets.Output()\n",
    "slider.observe(on_value_change, 'value')\n",
    "widgets.jslink((play, 'value'), (slider, 'value'))\n",
    "widgets.VBox([widgets.HBox([play, slider]), fig, out])"
   ]
  },
  {
   "cell_type": "code",
   "execution_count": 22,
   "metadata": {},
   "outputs": [
    {
     "data": {
      "application/vnd.jupyter.widget-view+json": {
       "model_id": "0bd40e8a905240eebf7d0faba49d091c",
       "version_major": 2,
       "version_minor": 0
      },
      "text/plain": [
       "Figure(axes=[Axis(scale=OrdinalScale(), visible=False), Axis(orientation='vertical', scale=LinearScale(max=4.0…"
      ]
     },
     "metadata": {},
     "output_type": "display_data"
    }
   ],
   "source": [
    "bar_surf = Bars(x=c, y=y, scales={'x': x_ord, 'y': y_sc}, colors=[\"yellow\"])\n",
    "fig = Figure(marks=[bar_surf], axes=[ax_x, ax_y])\n",
    "fig"
   ]
  },
  {
   "cell_type": "code",
   "execution_count": 23,
   "metadata": {},
   "outputs": [
    {
     "data": {
      "text/plain": [
       "2.220446049250313e-16"
      ]
     },
     "execution_count": 23,
     "metadata": {},
     "output_type": "execute_result"
    }
   ],
   "source": [
    "import sys\n",
    "sys.float_info.epsilon"
   ]
  },
  {
   "cell_type": "code",
   "execution_count": null,
   "metadata": {},
   "outputs": [],
   "source": []
  }
 ],
 "metadata": {
  "kernelspec": {
   "display_name": "Python 3",
   "language": "python",
   "name": "python3"
  },
  "language_info": {
   "codemirror_mode": {
    "name": "ipython",
    "version": 3
   },
   "file_extension": ".py",
   "mimetype": "text/x-python",
   "name": "python",
   "nbconvert_exporter": "python",
   "pygments_lexer": "ipython3",
   "version": "3.6.2"
  }
 },
 "nbformat": 4,
 "nbformat_minor": 2
}
