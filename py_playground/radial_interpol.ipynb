{
 "cells": [
  {
   "cell_type": "markdown",
   "metadata": {},
   "source": [
    "Since height is a function of two variables, simplest approach is to use bilinear interpolation, which is an expension of linear interpolation. Whatever our map points are, we can always normalize it to be centered, with all four corners have zero height."
   ]
  },
  {
   "cell_type": "code",
   "execution_count": 3,
   "metadata": {},
   "outputs": [],
   "source": [
    "import numpy as np\n",
    "import scipy as sp\n",
    "import scipy.interpolate\n",
    "import matplotlib.pyplot as plt"
   ]
  },
  {
   "cell_type": "code",
   "execution_count": 26,
   "metadata": {},
   "outputs": [],
   "source": [
    "x = [0, 1, 0, 1]\n",
    "y = [0, 0, 1, 1]\n",
    "z = [0, 0, 0, 0]\n",
    "poly = sp.interpolate.interp2d(x, y, z)"
   ]
  },
  {
   "cell_type": "code",
   "execution_count": 94,
   "metadata": {},
   "outputs": [],
   "source": [
    "x = [0, 1, 1, 0]\n",
    "y = [0, 0, 1, 1]\n",
    "z = [0, 0, 1, 0]\n",
    "poly2 = sp.interpolate.interp2d(x, y, z)"
   ]
  },
  {
   "cell_type": "code",
   "execution_count": 137,
   "metadata": {},
   "outputs": [
    {
     "data": {
      "text/plain": [
       "<matplotlib.contour.QuadContourSet at 0x11e701630>"
      ]
     },
     "execution_count": 137,
     "metadata": {},
     "output_type": "execute_result"
    },
    {
     "data": {
      "image/png": "[encoded data removed]",
      "text/plain": [
       "<Figure size 432x288 with 1 Axes>"
      ]
     },
     "metadata": {
      "needs_background": "light"
     },
     "output_type": "display_data"
    }
   ],
   "source": [
    "x = [0, 1, 0, 1, .5]\n",
    "y = [0, 0, 1, 1, .5]\n",
    "z = [0, 0, 0, 0, .5]\n",
    "\n",
    "# target grid to interpolate to\n",
    "xi = yi = np.arange(0,1.01,0.01)\n",
    "xi,yi = np.meshgrid(xi,yi)\n",
    "zi = sp.interpolate.griddata((x,y),z,(xi,yi),method='cubic')\n",
    "plt.contourf(xi, yi, zi)"
   ]
  },
  {
   "cell_type": "code",
   "execution_count": 142,
   "metadata": {},
   "outputs": [],
   "source": [
    "coords = np.array([x, y])"
   ]
  },
  {
   "cell_type": "code",
   "execution_count": 146,
   "metadata": {},
   "outputs": [
    {
     "data": {
      "text/plain": [
       "5"
      ]
     },
     "execution_count": 146,
     "metadata": {},
     "output_type": "execute_result"
    }
   ],
   "source": [
    "coords.shape[1]"
   ]
  },
  {
   "cell_type": "code",
   "execution_count": 105,
   "metadata": {},
   "outputs": [],
   "source": [
    "xx = np.linspace(0, 2, 50)\n",
    "yy = np.linspace(0, 2, 50)"
   ]
  },
  {
   "cell_type": "code",
   "execution_count": 106,
   "metadata": {},
   "outputs": [
    {
     "data": {
      "text/plain": [
       "array([[0., 0., 0., ..., 0., 0., 0.],\n",
       "       [0., 0., 0., ..., 0., 0., 0.],\n",
       "       [0., 0., 0., ..., 0., 0., 0.],\n",
       "       ...,\n",
       "       [0., 0., 0., ..., 0., 0., 0.],\n",
       "       [0., 0., 0., ..., 0., 0., 0.],\n",
       "       [0., 0., 0., ..., 0., 0., 0.]])"
      ]
     },
     "execution_count": 106,
     "metadata": {},
     "output_type": "execute_result"
    }
   ],
   "source": [
    "poly(xx, yy)"
   ]
  },
  {
   "cell_type": "code",
   "execution_count": 107,
   "metadata": {},
   "outputs": [
    {
     "data": {
      "text/plain": [
       "array([[4.        , 3.83673469, 3.67346939, ..., 0.        , 0.        ,\n",
       "        0.        ],\n",
       "       [3.83673469, 3.68013328, 3.52353186, ..., 0.        , 0.        ,\n",
       "        0.        ],\n",
       "       [3.67346939, 3.52353186, 3.37359434, ..., 0.        , 0.        ,\n",
       "        0.        ],\n",
       "       ...,\n",
       "       [0.        , 0.        , 0.        , ..., 0.        , 0.        ,\n",
       "        0.        ],\n",
       "       [0.        , 0.        , 0.        , ..., 0.        , 0.        ,\n",
       "        0.        ],\n",
       "       [0.        , 0.        , 0.        , ..., 0.        , 0.        ,\n",
       "        0.        ]])"
      ]
     },
     "execution_count": 107,
     "metadata": {},
     "output_type": "execute_result"
    }
   ],
   "source": [
    "pred = poly3(xx, yy)"
   ]
  },
  {
   "cell_type": "code",
   "execution_count": 108,
   "metadata": {},
   "outputs": [
    {
     "data": {
      "text/plain": [
       "<matplotlib.contour.QuadContourSet at 0x11e1cc438>"
      ]
     },
     "execution_count": 108,
     "metadata": {},
     "output_type": "execute_result"
    },
    {
     "data": {
      "image/png": "[encoded data removed]",
      "text/plain": [
       "<Figure size 432x288 with 1 Axes>"
      ]
     },
     "metadata": {
      "needs_background": "light"
     },
     "output_type": "display_data"
    }
   ],
   "source": [
    "plt.contourf(xx, yy, pred)"
   ]
  },
  {
   "cell_type": "markdown",
   "metadata": {},
   "source": [
    "**Radial basis function** is a function whole value depends only on the distance from the origin.\n",
    "$$\\phi(x, c) = \\phi(||x - c||)$$\n",
    "Distance used is Euclidean: $d(x_1, y_1, x_2, y_2)=(x_1 - x_2)^2 + (y_1 - y_2)^2$\n",
    "\n",
    "This particular function was empirically derived by @mk:\n",
    "$$r = ||x-c||$$\n",
    "$$\\phi(c, r) = c - c \\frac{8r^3}{8r^3 + 1c^3}$$\n",
    "\n",
    "`1` near $c^3$ is a hyperparameter: increase will inflate the \"nipple\" (thanks, Nika) and vice versa."
   ]
  },
  {
   "cell_type": "code",
   "execution_count": 5,
   "metadata": {},
   "outputs": [],
   "source": [
    "f_mk = lambda l, h: h - h * (8 * l ** 3 ) / (8 * l ** 3 + 1 * h ** 3)\n",
    "dist = lambda x1, y1, x2, y2: (x1 - x2) ** 2 + (y1 - y2) ** 2"
   ]
  },
  {
   "cell_type": "code",
   "execution_count": 6,
   "metadata": {},
   "outputs": [],
   "source": [
    "def interpol(points, values, xmin=0, xmax=1, ymin=0, ymax=1):\n",
    "    x = np.linspace(xmin, xmax)\n",
    "    y = np.linspace(ymin, ymax)\n",
    "    xx, yy = np.meshgrid(x, y)\n",
    "    z = np.zeros_like(xx)\n",
    "    for i in range(x.shape[0]):\n",
    "        for j in range(y.shape[0]):\n",
    "            for (xp, yp), val in zip(points, values):\n",
    "                d = dist(xx[i, j], yy[i, j], xp, yp)\n",
    "                m = f_mk(d, val)\n",
    "                mean = (m + z[i, j]) / 2\n",
    "                z[i, j] = mean if mean > z[i, j] else z[i, j]\n",
    "    return xx, yy, z\n"
   ]
  },
  {
   "cell_type": "code",
   "execution_count": 7,
   "metadata": {},
   "outputs": [],
   "source": [
    "# points = np.array([[0.5, 0.5],\n",
    "#                    [1, 1],\n",
    "#                    [1, 0.5]])\n",
    "# values = np.array([.5, .3, .5])\n",
    "points = np.array([[10, 10],\n",
    "                   [5, 5],\n",
    "                   [5, 15],\n",
    "                   [15, 5],\n",
    "                   [15, 15]])\n",
    "values = np.array([2, 5, 5, 5, 5])\n",
    "xx, yy, zz = interpol(points, values, 0, 20, 0, 20)"
   ]
  },
  {
   "cell_type": "markdown",
   "metadata": {},
   "source": [
    "Problem with radial interpolation is clearly evident below. Points are taken from 4th example. Instead of connecting peripheral points, we have solemn \"mountains\"."
   ]
  },
  {
   "cell_type": "code",
   "execution_count": 8,
   "metadata": {},
   "outputs": [
    {
     "data": {
      "text/plain": [
       "<matplotlib.contour.QuadContourSet at 0x11cea39e8>"
      ]
     },
     "execution_count": 8,
     "metadata": {},
     "output_type": "execute_result"
    },
    {
     "data": {
      "image/png": "[encoded data removed]",
      "text/plain": [
       "<Figure size 432x288 with 1 Axes>"
      ]
     },
     "metadata": {
      "needs_background": "light"
     },
     "output_type": "display_data"
    }
   ],
   "source": [
    "plt.contourf(xx, yy, zz)"
   ]
  },
  {
   "cell_type": "code",
   "execution_count": 11,
   "metadata": {},
   "outputs": [
    {
     "data": {
      "text/plain": [
       "<matplotlib.contour.QuadContourSet at 0x11d04bb00>"
      ]
     },
     "execution_count": 11,
     "metadata": {},
     "output_type": "execute_result"
    },
    {
     "data": {
      "image/png": "[encoded data removed]",
      "text/plain": [
       "<Figure size 432x288 with 1 Axes>"
      ]
     },
     "metadata": {
      "needs_background": "light"
     },
     "output_type": "display_data"
    }
   ],
   "source": [
    "# 1st example\n",
    "points = np.array([[0.5, 0.5]])\n",
    "values = np.array([.5, .3, .3])\n",
    "xx, yy, zz = interpol(points, values, 0, 1, 0, 1)\n",
    "plt.contourf(xx, yy, zz)"
   ]
  }
 ],
 "metadata": {
  "kernelspec": {
   "display_name": "Python 3",
   "language": "python",
   "name": "python3"
  },
  "language_info": {
   "codemirror_mode": {
    "name": "ipython",
    "version": 3
   },
   "file_extension": ".py",
   "mimetype": "text/x-python",
   "name": "python",
   "nbconvert_exporter": "python",
   "pygments_lexer": "ipython3",
   "version": "3.6.2"
  }
 },
 "nbformat": 4,
 "nbformat_minor": 2
}
