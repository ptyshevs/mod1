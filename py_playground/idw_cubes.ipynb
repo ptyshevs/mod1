{
 "cells": [
  {
   "cell_type": "markdown",
   "metadata": {},
   "source": [
    "Make world consist of cubes of equal size. This requires IDW to be \"snapped\" to the discritized 'z' axis."
   ]
  },
  {
   "cell_type": "code",
   "execution_count": 21,
   "metadata": {},
   "outputs": [],
   "source": [
    "import numpy as np\n",
    "import matplotlib.pyplot as plt\n",
    "from tools import parse_file, rescale, center, gen_borders\n",
    "from interpol import Estimation"
   ]
  },
  {
   "cell_type": "code",
   "execution_count": 38,
   "metadata": {},
   "outputs": [],
   "source": [
    "points = center(rescale(parse_file(\"../resources/demo2.mod1\")))"
   ]
  },
  {
   "cell_type": "code",
   "execution_count": 39,
   "metadata": {},
   "outputs": [
    {
     "data": {
      "text/plain": [
       "array([[0.83333333, 0.83333333, 1.        ],\n",
       "       [1.16666667, 0.83333333, 0.01666667],\n",
       "       [1.16666667, 1.16666667, 0.66666667]])"
      ]
     },
     "execution_count": 39,
     "metadata": {},
     "output_type": "execute_result"
    }
   ],
   "source": [
    "points"
   ]
  },
  {
   "cell_type": "code",
   "execution_count": 46,
   "metadata": {},
   "outputs": [],
   "source": [
    "xmin, xmax, ymin, ymax, zmin, zmax = 0, 2, 0, 2, 0, 2"
   ]
  },
  {
   "cell_type": "code",
   "execution_count": 47,
   "metadata": {},
   "outputs": [],
   "source": [
    "points = np.vstack([points, gen_borders(0, 2, 0, 2)])"
   ]
  },
  {
   "cell_type": "code",
   "execution_count": 126,
   "metadata": {},
   "outputs": [],
   "source": [
    "class Cube:\n",
    "    def __init__(self, point, state=\"empty\"):\n",
    "        \"\"\" Cube is defined by a down-bottom-left point \"\"\"\n",
    "        self.point = point\n",
    "        self.state = state\n",
    "        \n",
    "    def __repr__(self):\n",
    "        return f\"{self.point[2]:.2f} - {self.state}\"\n",
    "#         return f\"({self.point[0]:.2f}, {self.point[1]:.2f}, {self.point[2]:.2f})\""
   ]
  },
  {
   "cell_type": "code",
   "execution_count": 176,
   "metadata": {},
   "outputs": [],
   "source": [
    "NUM_POINTS = 40\n",
    "x = np.linspace(0, 2, NUM_POINTS)\n",
    "y = np.linspace(0, 2, NUM_POINTS)\n",
    "z = np.linspace(0, 2, NUM_POINTS)\n",
    "height_map = np.empty((NUM_POINTS, NUM_POINTS, NUM_POINTS), dtype=object)"
   ]
  },
  {
   "cell_type": "code",
   "execution_count": 177,
   "metadata": {},
   "outputs": [],
   "source": [
    "z_step = zmax / NUM_POINTS"
   ]
  },
  {
   "cell_type": "code",
   "execution_count": 178,
   "metadata": {},
   "outputs": [
    {
     "data": {
      "text/plain": [
       "0.05"
      ]
     },
     "execution_count": 178,
     "metadata": {},
     "output_type": "execute_result"
    }
   ],
   "source": [
    "z_step"
   ]
  },
  {
   "cell_type": "code",
   "execution_count": 179,
   "metadata": {},
   "outputs": [],
   "source": [
    "e = Estimation(points[:, 0], points[:, 1], points[:, 2])"
   ]
  },
  {
   "cell_type": "code",
   "execution_count": 190,
   "metadata": {},
   "outputs": [],
   "source": [
    "height_map = np.empty((NUM_POINTS, NUM_POINTS, NUM_POINTS), dtype=object)\n",
    "for i in range(NUM_POINTS):\n",
    "    for j in range(NUM_POINTS):\n",
    "        z_interpol = e.estimate(x[i], y[j])  # real-valued\n",
    "        z_discrete = int(z_interpol // z_step)\n",
    "        for k, _ in enumerate(z):\n",
    "            if k == z_discrete:\n",
    "                height_map[i, j, k] = Cube([x[i], y[j], _], 'terrain')\n",
    "            else:\n",
    "                height_map[i, j, k] = Cube([x[i], y[j], _])\n",
    "#         print(z_interpol, z_interpol // z_step)"
   ]
  },
  {
   "cell_type": "code",
   "execution_count": 192,
   "metadata": {},
   "outputs": [
    {
     "data": {
      "text/plain": [
       "array([[0.00 - terrain, 0.05 - empty, 0.10 - empty, ..., 1.90 - empty,\n",
       "        1.95 - empty, 2.00 - empty],\n",
       "       [0.00 - terrain, 0.05 - empty, 0.10 - empty, ..., 1.90 - empty,\n",
       "        1.95 - empty, 2.00 - empty],\n",
       "       [0.00 - terrain, 0.05 - empty, 0.10 - empty, ..., 1.90 - empty,\n",
       "        1.95 - empty, 2.00 - empty],\n",
       "       ...,\n",
       "       [0.00 - terrain, 0.05 - empty, 0.10 - empty, ..., 1.90 - empty,\n",
       "        1.95 - empty, 2.00 - empty],\n",
       "       [0.00 - terrain, 0.05 - empty, 0.10 - empty, ..., 1.90 - empty,\n",
       "        1.95 - empty, 2.00 - empty],\n",
       "       [0.00 - terrain, 0.05 - empty, 0.10 - empty, ..., 1.90 - empty,\n",
       "        1.95 - empty, 2.00 - empty]], dtype=object)"
      ]
     },
     "execution_count": 192,
     "metadata": {},
     "output_type": "execute_result"
    }
   ],
   "source": [
    "height_map[10]"
   ]
  },
  {
   "cell_type": "code",
   "execution_count": null,
   "metadata": {},
   "outputs": [],
   "source": [
    "def idw_mesh(points, n_points=50, sigma=0.6, map_points=True, xmin=0, xmax=2, ymin=0, ymax=2):\n",
    "    \"\"\"\n",
    "        Generate mesh of interpolated height map using Inverse Distance Weighting\n",
    "\n",
    "    :param points: map points to interpolate\n",
    "    :param n_points: number of points per axis. 50 will give you 50x50 grid\n",
    "    :param sigma: smoothing parameter\n",
    "            Euclidean distance d(p1, p2) ^ (1 + sigma)\n",
    "    :param map_points: Append map points if True\n",
    "    :param xmin:\n",
    "    :param xmax:\n",
    "    :param ymin:\n",
    "    :param ymax:\n",
    "    :return: Array of interpolated points\n",
    "    \"\"\"\n",
    "    e = Estimation(points[:, 0], points[:, 1], points[:, 2])\n",
    "    x = np.linspace(xmin, xmax, n_points)\n",
    "    y = np.linspace(ymin, ymax, n_points)\n",
    "    res = np.zeros((n_points ** 2, 3))\n",
    "    for i in range(n_points):\n",
    "        for j in range(n_points):\n",
    "            res[i * n_points + j, :] = x[i], y[j], e.estimate(x[i], y[j], sigma=sigma)\n",
    "    if map_points:\n",
    "        return np.vstack((res, points))\n",
    "    return res"
   ]
  }
 ],
 "metadata": {
  "kernelspec": {
   "display_name": "Python 3",
   "language": "python",
   "name": "python3"
  },
  "language_info": {
   "codemirror_mode": {
    "name": "ipython",
    "version": 3
   },
   "file_extension": ".py",
   "mimetype": "text/x-python",
   "name": "python",
   "nbconvert_exporter": "python",
   "pygments_lexer": "ipython3",
   "version": "3.6.2"
  }
 },
 "nbformat": 4,
 "nbformat_minor": 2
}
