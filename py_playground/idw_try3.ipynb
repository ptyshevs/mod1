{
 "cells": [
  {
   "cell_type": "code",
   "execution_count": 6,
   "metadata": {},
   "outputs": [],
   "source": [
    "import numpy as np\n",
    "import matplotlib.pyplot as plt\n",
    "from tools import parse_file, rescale, gen_borders, gen_grid, center"
   ]
  },
  {
   "cell_type": "code",
   "execution_count": 19,
   "metadata": {},
   "outputs": [],
   "source": [
    "points = center(rescale(parse_file(\"../resources/demo4.mod1\")))\n",
    "points = np.vstack([points, points, points, gen_borders(0, 2, 0, 2)])"
   ]
  },
  {
   "cell_type": "markdown",
   "metadata": {},
   "source": [
    "Possible ways of interpolating surface:\n",
    "* Inverse Distance Weighting\n",
    "* Splines\n",
    "* Kriging\n",
    "  - [Gaussian Process Regressor](https://scikit-learn.org/stable/modules/gaussian_process.html#gaussian-process-regression-gpr)\n",
    "  - [Simple Kriging in Python](http://connor-johnson.com/2014/03/20/simple-kriging-in-python/)"
   ]
  },
  {
   "cell_type": "markdown",
   "metadata": {},
   "source": [
    "## Inverse distance interpolation\n",
    "\n",
    "Given $N$-tuple of points $(x_1, y_1, z_1), \\dots, (x_N, y_N, z_N)$, we can then interpolate any point like this. First we define *inverse distance weighting* function:\n",
    "$$w_i(x)=d(x, x_i)^{-p}$$ where $d$ is usually Euclidean distance. With added smoothing parameter $\\sigma$, this equation looks like:\n",
    "$$d(x, x_i, \\sigma)=\\sqrt{|x-x_i| + \\sigma^2}$$\n",
    "Another approach to smoothing is this:\n",
    "$$d(x, x_i, \\sigma)=\\sqrt{|x-x_i|}^{1 + \\sigma}, \\sigma \\in [0, +\\infty)$$\n",
    "\n",
    "We want to interpolate $x$ and calculate weight of *known* points $x_i$ as inverse of distance from $x$ to $x_i$ raised to some power $p$ inversed. Hence, the farther the known point $x_i$ is, the lesser the weight would be.\n",
    "\n",
    "Then our interpolated value $u(x)$ is weighted average of values of *known* points $x_i$:\n",
    "$$u(x)=\\frac{\\sum_{i=1}^{N}w_i(x)u_i}{\\sum_{i=1}^{N}w_i(x)}$$\n",
    "\n",
    "$u(x)$ is, in our case, height of the point."
   ]
  },
  {
   "cell_type": "code",
   "execution_count": 32,
   "metadata": {},
   "outputs": [],
   "source": [
    "class Estimation:\n",
    "    def __init__(self, datax, datay, dataz):\n",
    "        self.x = datax\n",
    "        self.y = datay\n",
    "        self.v = dataz\n",
    "\n",
    "    def estimate(self, x, y, using='ISD', sigma=0):\n",
    "        \"\"\"\n",
    "        Estimate point at coordinate x,y based on the input data for this\n",
    "        class.\n",
    "        \"\"\"\n",
    "        if using == 'ISD':  # inverse squared distance\n",
    "            return self._isd(x, y, sigma=sigma)\n",
    "\n",
    "    def _isd(self, x, y, p=-2, sigma=0):\n",
    "        d = np.sqrt((x - self.x) ** 2 + (y - self.y) ** 2) ** (1 + sigma)\n",
    "        if d.min() > 0:\n",
    "            v = np.sum(self.v * d ** p / np.sum(d ** p))\n",
    "            return v\n",
    "        else:\n",
    "            return self.v[d.argmin()]"
   ]
  },
  {
   "cell_type": "code",
   "execution_count": 33,
   "metadata": {},
   "outputs": [],
   "source": [
    "e = Estimation(points[:, 0], points[:, 1], points[:, 2])"
   ]
  },
  {
   "cell_type": "code",
   "execution_count": 60,
   "metadata": {},
   "outputs": [],
   "source": [
    "NUM_POINTS = 100\n",
    "surf = np.zeros((NUM_POINTS, NUM_POINTS))\n",
    "xx, yy = gen_grid(0, 2, 0, 2, NUM_POINTS)\n",
    "for i in range(NUM_POINTS):\n",
    "    for j in range(NUM_POINTS):\n",
    "        surf[i, j] = e.estimate(xx[i, j], yy[i, j], sigma=12)"
   ]
  },
  {
   "cell_type": "code",
   "execution_count": 61,
   "metadata": {},
   "outputs": [
    {
     "data": {
      "image/png": "[encoded data removed]",
      "text/plain": [
       "<Figure size 432x288 with 1 Axes>"
      ]
     },
     "metadata": {
      "needs_background": "light"
     },
     "output_type": "display_data"
    }
   ],
   "source": [
    "plt.contourf(xx, yy, surf)\n",
    "plt.scatter(points[:, 0], points[:, 1], c=points[:, 2], s=5);"
   ]
  },
  {
   "cell_type": "markdown",
   "metadata": {},
   "source": [
    "I've added smoothing parameter, but this will perform **approximation** of the surface instead of interpolation."
   ]
  },
  {
   "cell_type": "markdown",
   "metadata": {},
   "source": [
    "Use this snippet to make ipywidgets work in JupyterLab:\n",
    "\n",
    "`jupyter labextension install @jupyter-widgets/jupyterlab-manager`"
   ]
  },
  {
   "cell_type": "code",
   "execution_count": 7,
   "metadata": {},
   "outputs": [],
   "source": [
    "import ipywidgets"
   ]
  },
  {
   "cell_type": "code",
   "execution_count": 8,
   "metadata": {},
   "outputs": [],
   "source": [
    "def f(sigma=.01):\n",
    "    NUM_POINTS = 50\n",
    "    surf = np.zeros((NUM_POINTS, NUM_POINTS))\n",
    "    xx, yy = gen_grid(0, 3, 0, 3, NUM_POINTS)\n",
    "    for i in range(NUM_POINTS):\n",
    "        for j in range(NUM_POINTS):\n",
    "            surf[i, j] = e.estimate(xx[i, j], yy[i, j], sigma=sigma)\n",
    "    plt.contourf(xx, yy, surf)\n",
    "    plt.scatter(points[:, 0], points[:, 1], c=points[:, 2], s=8)\n",
    "    plt.xlim(0.8, 2.2)\n",
    "    plt.ylim(0.8, 2.2);"
   ]
  },
  {
   "cell_type": "code",
   "execution_count": 25,
   "metadata": {},
   "outputs": [],
   "source": [
    "sigma_slider = ipywidgets.FloatLogSlider(base=10, min=-2, max=0, ax=.001, value=0.01)"
   ]
  },
  {
   "cell_type": "code",
   "execution_count": 26,
   "metadata": {},
   "outputs": [
    {
     "data": {
      "text/plain": [
       "interactive(children=(FloatLogSlider(value=0.01, description='sigma', max=0.0, min=-2.0), Output()), _dom_clas…"
      ]
     },
     "metadata": {},
     "output_type": "display_data"
    }
   ],
   "source": [
    "ipywidgets.interact(f, sigma=sigma_slider);"
   ]
  },
  {
   "cell_type": "code",
   "execution_count": null,
   "metadata": {},
   "outputs": [],
   "source": []
  }
 ],
 "metadata": {
  "kernelspec": {
   "display_name": "Python 3",
   "language": "python",
   "name": "python3"
  },
  "language_info": {
   "codemirror_mode": {
    "name": "ipython",
    "version": 3
   },
   "file_extension": ".py",
   "mimetype": "text/x-python",
   "name": "python",
   "nbconvert_exporter": "python",
   "pygments_lexer": "ipython3",
   "version": "3.6.2"
  }
 },
 "nbformat": 4,
 "nbformat_minor": 2
}
