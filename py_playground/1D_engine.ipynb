{
 "cells": [
  {
   "cell_type": "code",
   "execution_count": 1,
   "metadata": {},
   "outputs": [],
   "source": [
    "import numpy as np\n",
    "import matplotlib.pyplot as plt\n",
    "from emitter import Emitter"
   ]
  },
  {
   "cell_type": "code",
   "execution_count": 2,
   "metadata": {},
   "outputs": [],
   "source": [
    "cmin = 0\n",
    "cmax = 2\n",
    "n_points = 20"
   ]
  },
  {
   "cell_type": "code",
   "execution_count": 3,
   "metadata": {},
   "outputs": [],
   "source": [
    "c = np.linspace(cmin, cmax, n_points)"
   ]
  },
  {
   "cell_type": "code",
   "execution_count": 4,
   "metadata": {},
   "outputs": [],
   "source": [
    "grid = np.array([(c[i], c[j]) for j in range(n_points) for i in range(n_points)])"
   ]
  },
  {
   "cell_type": "code",
   "execution_count": 5,
   "metadata": {},
   "outputs": [],
   "source": [
    "y = lambda x: .2 * x ** 3 - .3 * x + .3\n",
    "fx = y(c)"
   ]
  },
  {
   "cell_type": "code",
   "execution_count": 6,
   "metadata": {},
   "outputs": [],
   "source": [
    "class Cube:\n",
    "    def __init__(self, coords, state=\"empty\"):\n",
    "        \"\"\" Cube is defined by a down-bottom-left point \"\"\"\n",
    "        self.c = coords.copy()\n",
    "        self.state = state\n",
    "\n",
    "    def __repr__(self):\n",
    "        return f\"[{self.coords.round(2)}] - {self.state}\"\n",
    "\n",
    "    @property\n",
    "    def coords(self):\n",
    "        return self.c\n",
    "\n",
    "    @coords.setter\n",
    "    def coords(self, val):\n",
    "        self.c = val\n",
    "\n",
    "    def is_empty(self):\n",
    "        return self.state == 'empty'\n",
    "\n",
    "class HeightMap:\n",
    "    def __init__(self, cmin, cmax, n_points, n_dims=2, estimator=None):\n",
    "        self.n = n_points\n",
    "        self.n_dims = n_dims\n",
    "        self.hmap = np.empty((self.n ** n_dims,), dtype=object)\n",
    "        \n",
    "        self.c = np.linspace(cmin, cmax, n_points)\n",
    "        self.step = c[1] - c[0]\n",
    "        \n",
    "        for i in range(self.n ** n_dims):\n",
    "            idx = divmod(i, n_points)\n",
    "            cp = np.array([c[_] for _ in idx])\n",
    "            self.hmap[i] = Cube(cp, 'terrain' if self.under_f(y, cp) else 'empty')\n",
    "    \n",
    "    def dn(self, params):\n",
    "        \"\"\" n-dimentional index convertion to 1D array \"\"\"\n",
    "        n = len(params)\n",
    "        return self.hmap[sum([_ * self.n ** p for _, p in zip(params, range(n - 1, -1, -1))])]\n",
    "        \n",
    "    \n",
    "    def i_to_ndim_idx(i):\n",
    "        return tuple([i])\n",
    "    \n",
    "    def under_f(self, f, point):\n",
    "        f_val = f(point[:-1])\n",
    "        return point[-1] <= f_val\n",
    "    \n",
    "    def reset(self):\n",
    "        for cube in self.hmap:\n",
    "            if cube.state == 'water':\n",
    "                cube.state = 'empty'"
   ]
  },
  {
   "cell_type": "code",
   "execution_count": 7,
   "metadata": {},
   "outputs": [
    {
     "name": "stdout",
     "output_type": "stream",
     "text": [
      "(400,)\n"
     ]
    }
   ],
   "source": [
    "hmap = HeightMap(0, 2, 20)\n",
    "print(hmap.hmap.shape)\n",
    "e = Emitter(cmin, cmax, n_coords=2)\n",
    "# e.set_origin(np.array((.8, 1)))"
   ]
  },
  {
   "cell_type": "code",
   "execution_count": 8,
   "metadata": {},
   "outputs": [],
   "source": [
    "class Simulation:\n",
    "    def __init__(self, cmin=0, cmax=2, n_points=20):\n",
    "        self.particles = []\n",
    "        self.dt = 0.003\n",
    "        self.cmin = cmin\n",
    "        self.cmax = cmax\n",
    "        self.n_grid = n_points\n",
    "        self.c = np.linspace(cmin, cmax, n_points)\n",
    "        self.step = self.c[1] - self.c[0]\n",
    "    \n",
    "    def add_particles(self, particles):\n",
    "        self.particles.extend(particles)\n",
    "    \n",
    "    def add_particle(self, particle):\n",
    "        self.particles.append(particle)\n",
    "    \n",
    "    def update_particles(self):\n",
    "        # 1) gravity\n",
    "        for particle in self.particles:\n",
    "            cur_loc = self.discritize(particle)\n",
    "            next_loc = self.discritize(particle + particle.grad)\n",
    "#             print(f\"Cur loc: {cur_loc} {hmap.dn(cur_loc).state} | Next loc: {next_loc} {hmap.dn(next_loc).state} | grad: {particle.grad}\")\n",
    "#             print(f\"Next loc state: {hmap.dn(next_loc).state}\")\n",
    "            if hmap.dn(next_loc).state != 'empty':\n",
    "                ground_level = next_loc\n",
    "                # ground is somewhere between cur_loc and next_loc\n",
    "                for i in range(cur_loc[1] - 1, next_loc[1] - 1, -1):\n",
    "#                     print(f\"Loc: {cur_loc[0], i} - {hmap.dn((cur_loc[0], i)).state}\")\n",
    "                    if hmap.dn((cur_loc[0], i)).state != 'empty':\n",
    "                        next_loc = (cur_loc[0], i + 1)\n",
    "                        break\n",
    "#                 print(\"Corrected next loc:\", next_loc)\n",
    "                nloc = hmap.dn(next_loc)\n",
    "                particle.coords = nloc.coords\n",
    "                particle.grad += -particle.grad\n",
    "                nloc.state = 'water'\n",
    "            else:\n",
    "                particle.grad[((particle.coords + particle.grad) < self.cmin) | ((particle.coords + particle.grad) > self.cmax)] = 0\n",
    "                particle.coords += particle.grad\n",
    "                particle.grad[-1] += -9.81 * self.dt\n",
    "    \n",
    "    def discritize(self, particle):\n",
    "        return [int(_ / self.step) for _ in particle.coords]\n",
    "    \n",
    "    def reset(self):\n",
    "        self.particles = []"
   ]
  },
  {
   "cell_type": "code",
   "execution_count": 9,
   "metadata": {},
   "outputs": [
    {
     "data": {
      "text/plain": [
       "[]"
      ]
     },
     "execution_count": 9,
     "metadata": {},
     "output_type": "execute_result"
    }
   ],
   "source": [
    "s = Simulation()\n",
    "# s.add_particles([_.copy() for _ in particles])\n",
    "s.particles"
   ]
  },
  {
   "cell_type": "code",
   "execution_count": 10,
   "metadata": {},
   "outputs": [
    {
     "data": {
      "application/vnd.jupyter.widget-view+json": {
       "model_id": "51895cbc25564bbfa7a0a1177807e8d0",
       "version_major": 2,
       "version_minor": 0
      },
      "text/plain": [
       "interactive(children=(FloatSlider(value=0.0, description='t', max=4.0), Output()), layout=Layout(height='350px…"
      ]
     },
     "metadata": {},
     "output_type": "display_data"
    }
   ],
   "source": [
    "import ipywidgets as widgets\n",
    "\n",
    "coords = np.array([hmap.hmap[i].coords for i in range(hmap.n ** 2)])\n",
    "col = ['green' if hmap.hmap[i].state == 'terrain' else 'blue' for i in range(hmap.n ** 2)]\n",
    "\n",
    "def f(t):\n",
    "    if t == 0:\n",
    "        s.reset()\n",
    "#         s.add_particles([_.copy() for _ in particles])\n",
    "        e.reset()\n",
    "        hmap.reset()\n",
    "    s.update_particles()\n",
    "    p = e.emit()\n",
    "    if p:\n",
    "        s.add_particle(p)\n",
    "    plt.scatter(coords[:, 0], coords[:, 1], s=1, c=col, label=\"terrain\");\n",
    "    plt.scatter([p.x for p in s.particles], [p.y for p in s.particles], c='blue', label=\"particle\")\n",
    "    plt.plot(c, fx, c='orange', label=\"Surface function\");\n",
    "    plt.xlim(cmin, cmax);\n",
    "    plt.ylim(cmin, cmax);\n",
    "    plt.legend(loc=\"upper left\");\n",
    "# @widgets.interact(t=widgets.FloatSlider(min=0.0, max=2.0, value=0), continuous_update=False)\n",
    "\n",
    "ip = widgets.interactive(f, t=widgets.FloatSlider(min=0.0, max=4.0, value=0), continuous_update=False)\n",
    "ip.layout.height = '350px'\n",
    "ip"
   ]
  },
  {
   "cell_type": "code",
   "execution_count": null,
   "metadata": {},
   "outputs": [],
   "source": []
  },
  {
   "cell_type": "code",
   "execution_count": null,
   "metadata": {},
   "outputs": [],
   "source": []
  }
 ],
 "metadata": {
  "kernelspec": {
   "display_name": "Python 3",
   "language": "python",
   "name": "python3"
  },
  "language_info": {
   "codemirror_mode": {
    "name": "ipython",
    "version": 3
   },
   "file_extension": ".py",
   "mimetype": "text/x-python",
   "name": "python",
   "nbconvert_exporter": "python",
   "pygments_lexer": "ipython3",
   "version": "3.6.2"
  }
 },
 "nbformat": 4,
 "nbformat_minor": 2
}
