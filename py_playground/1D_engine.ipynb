{
 "cells": [
  {
   "cell_type": "code",
   "execution_count": 1,
   "metadata": {},
   "outputs": [],
   "source": [
    "import numpy as np\n",
    "import matplotlib.pyplot as plt\n",
    "from emitter import Emitter"
   ]
  },
  {
   "cell_type": "code",
   "execution_count": 32,
   "metadata": {},
   "outputs": [],
   "source": [
    "cmin = 0\n",
    "cmax = 2\n",
    "n_points = 20"
   ]
  },
  {
   "cell_type": "code",
   "execution_count": 33,
   "metadata": {},
   "outputs": [],
   "source": [
    "c = np.linspace(cmin, cmax, n_points)"
   ]
  },
  {
   "cell_type": "code",
   "execution_count": 34,
   "metadata": {},
   "outputs": [],
   "source": [
    "grid = np.array([(c[i], c[j]) for j in range(n_points) for i in range(n_points)])"
   ]
  },
  {
   "cell_type": "code",
   "execution_count": 35,
   "metadata": {},
   "outputs": [],
   "source": [
    "y = lambda x: .2 * x ** 3 - .3 * x + .3\n",
    "fx = y(c)"
   ]
  },
  {
   "cell_type": "code",
   "execution_count": 36,
   "metadata": {},
   "outputs": [],
   "source": [
    "e = Emitter(cmin, cmax, pmax=1, n_coords=2)\n",
    "e.set_origin(np.array([1, 2]))\n",
    "particles = [e.give()]"
   ]
  },
  {
   "cell_type": "code",
   "execution_count": 113,
   "metadata": {},
   "outputs": [],
   "source": [
    "class Cube:\n",
    "    def __init__(self, coords, state=\"empty\"):\n",
    "        \"\"\" Cube is defined by a down-bottom-left point \"\"\"\n",
    "        self.c = coords.copy()\n",
    "        self.state = state\n",
    "\n",
    "    def __repr__(self):\n",
    "        return f\"[{self.coords.round(2)}] - {self.state}\"\n",
    "\n",
    "    @property\n",
    "    def coords(self):\n",
    "        return self.c\n",
    "\n",
    "    @coords.setter\n",
    "    def coords(self, val):\n",
    "        self.c = val\n",
    "\n",
    "    def is_empty(self):\n",
    "        return self.state == 'empty'\n",
    "\n",
    "class HeightMap:\n",
    "    def __init__(self, cmin, cmax, n_points, n_dims=2, estimator=None):\n",
    "        self.n = n_points\n",
    "        self.n_dims = n_dims\n",
    "        self.hmap = np.empty((self.n ** n_dims,), dtype=object)\n",
    "        \n",
    "        self.c = np.linspace(cmin, cmax, n_points)\n",
    "        self.step = c[1] - c[0]\n",
    "        \n",
    "        for i in range(self.n ** n_dims):\n",
    "            idx = divmod(i, n_points)\n",
    "            cp = np.array([c[_] for _ in idx])\n",
    "            self.hmap[i] = Cube(cp, 'terrain' if self.under_f(y, cp) else 'empty')\n",
    "    \n",
    "    def dn(self, params):\n",
    "        \"\"\" n-dimentional index convertion to 1D array \"\"\"\n",
    "        n = len(params)\n",
    "        return self.hmap[sum([_ * self.n ** p for _, p in zip(params, range(n - 1, -1, -1))])]\n",
    "        \n",
    "    \n",
    "    def i_to_ndim_idx(i):\n",
    "        return tuple([i])\n",
    "    \n",
    "    def under_f(self, f, point):\n",
    "        f_val = f(point[:-1])\n",
    "        return point[-1] <= f_val"
   ]
  },
  {
   "cell_type": "code",
   "execution_count": 114,
   "metadata": {},
   "outputs": [
    {
     "name": "stdout",
     "output_type": "stream",
     "text": [
      "(400,)\n"
     ]
    }
   ],
   "source": [
    "hmap = HeightMap(0, 2, 20)\n",
    "print(hmap.hmap.shape)"
   ]
  },
  {
   "cell_type": "code",
   "execution_count": 115,
   "metadata": {},
   "outputs": [
    {
     "data": {
      "text/plain": [
       "[[2. 2.]] - empty"
      ]
     },
     "execution_count": 115,
     "metadata": {},
     "output_type": "execute_result"
    }
   ],
   "source": [
    "hmap.dn((19, 19))"
   ]
  },
  {
   "cell_type": "code",
   "execution_count": 116,
   "metadata": {},
   "outputs": [],
   "source": [
    "class Simulation:\n",
    "    def __init__(self, cmin=0, cmax=2, n_points=20):\n",
    "        self.particles = []\n",
    "        self.dt = 0.003\n",
    "        self.cmin = cmin\n",
    "        self.cmax = cmax\n",
    "        self.n_grid = n_points\n",
    "        self.c = np.linspace(cmin, cmax, n_points)\n",
    "        self.step = self.c[1] - self.c[0]\n",
    "    \n",
    "    def add_particles(self, particles):\n",
    "        self.particles.extend(particles)\n",
    "    \n",
    "    def update_particles(self):\n",
    "        # 1) gravity\n",
    "        for particle in self.particles:\n",
    "            print(\"Discrete:\", self.discritize(particle))\n",
    "            particle.grad[((particle.coords + particle.grad) < self.cmin) | ((particle.coords + particle.grad) > self.cmax)] = 0\n",
    "            particle.coords += particle.grad\n",
    "            particle.grad[-1] += -9.81 * self.dt\n",
    "    \n",
    "    def discritize(self, particle):\n",
    "        return [int(_ / self.step) for _ in particle.coords]\n",
    "    \n",
    "    def reset(self):\n",
    "        self.particles = []"
   ]
  },
  {
   "cell_type": "code",
   "execution_count": 117,
   "metadata": {},
   "outputs": [
    {
     "data": {
      "text/plain": [
       "[Particle [[1. 2.]] -> [0. 0.]]"
      ]
     },
     "execution_count": 117,
     "metadata": {},
     "output_type": "execute_result"
    }
   ],
   "source": [
    "s = Simulation()\n",
    "s.add_particles(particles)\n",
    "s.particles"
   ]
  },
  {
   "cell_type": "code",
   "execution_count": 121,
   "metadata": {},
   "outputs": [
    {
     "data": {
      "application/vnd.jupyter.widget-view+json": {
       "model_id": "b77ef45ed46d4669a862862aae063540",
       "version_major": 2,
       "version_minor": 0
      },
      "text/plain": [
       "interactive(children=(FloatSlider(value=0.0, description='t', max=2.0), Output()), _dom_classes=('widget-inter…"
      ]
     },
     "metadata": {},
     "output_type": "display_data"
    }
   ],
   "source": [
    "import ipywidgets as widgets\n",
    "\n",
    "fig, ax = plt.subplots()\n",
    "\n",
    "@widgets.interact(t=widgets.FloatSlider(min=0.0, max=2.0, value=0), continuous_update=False)\n",
    "def f(t):\n",
    "    if t == 0:\n",
    "        s.reset()\n",
    "        s.add_particles([_.copy() for _ in particles])\n",
    "    s.update_particles()\n",
    "    col = ['green' if hmap.hmap[i].state == 'terrain' else 'blue' for i in range(hmap.n ** 2)]\n",
    "    coords = np.array([hmap.hmap[i].coords for i in range(hmap.n ** 2)])\n",
    "    plt.scatter(coords[:, 0], coords[:, 1], s=1, c=col, label=\"terrain\");\n",
    "    plt.scatter([p.x for p in s.particles], [p.y for p in s.particles], c='blue', label=\"particle\")\n",
    "    plt.plot(c, fx, c='orange', label=\"Surface function\");\n",
    "    plt.xlim(cmin, cmax);\n",
    "    plt.ylim(cmin, cmax);\n",
    "    plt.legend(loc=\"upper left\");"
   ]
  },
  {
   "cell_type": "code",
   "execution_count": null,
   "metadata": {},
   "outputs": [],
   "source": []
  }
 ],
 "metadata": {
  "kernelspec": {
   "display_name": "Python 3",
   "language": "python",
   "name": "python3"
  },
  "language_info": {
   "codemirror_mode": {
    "name": "ipython",
    "version": 3
   },
   "file_extension": ".py",
   "mimetype": "text/x-python",
   "name": "python",
   "nbconvert_exporter": "python",
   "pygments_lexer": "ipython3",
   "version": "3.6.2"
  }
 },
 "nbformat": 4,
 "nbformat_minor": 2
}
