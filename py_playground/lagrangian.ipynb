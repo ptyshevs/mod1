{
 "cells": [
  {
   "cell_type": "code",
   "execution_count": 799,
   "metadata": {},
   "outputs": [],
   "source": [
    "import numpy as np\n",
    "import matplotlib.pyplot as plt"
   ]
  },
  {
   "cell_type": "markdown",
   "metadata": {},
   "source": [
    "### 2D case"
   ]
  },
  {
   "cell_type": "code",
   "execution_count": 800,
   "metadata": {},
   "outputs": [],
   "source": [
    "f = lambda x: np.exp(x)\n",
    "x = np.linspace(0, 2)\n",
    "y = f(x)"
   ]
  },
  {
   "cell_type": "code",
   "execution_count": 801,
   "metadata": {},
   "outputs": [
    {
     "data": {
      "image/png": "[encoded data removed]",
      "text/plain": [
       "<Figure size 432x288 with 1 Axes>"
      ]
     },
     "metadata": {
      "needs_background": "light"
     },
     "output_type": "display_data"
    }
   ],
   "source": [
    "plt.plot(x, y);"
   ]
  },
  {
   "cell_type": "code",
   "execution_count": 821,
   "metadata": {},
   "outputs": [],
   "source": [
    "# select n points randomly\n",
    "n = 3\n",
    "idx = np.random.choice(np.arange(0, x.shape[0]), size=n, replace=False)\n",
    "sample_x, sample_y = x[idx], y[idx]\n",
    "# idx = np.argsort(sample_x)\n",
    "# sample_x = sample_x[idx]\n",
    "# sample_y = sample_y[idx]"
   ]
  },
  {
   "cell_type": "code",
   "execution_count": 822,
   "metadata": {},
   "outputs": [],
   "source": [
    "def build_lagrangian(xs, ys):\n",
    "    \"\"\" Build lagrangian polynomial of order n-1, where n - number of points \"\"\"\n",
    "    n = xs.shape[0]\n",
    "    \n",
    "    l_i = lambda x, i: np.prod([(x - xs[j])/(xs[i] - xs[j]) for j in range(n) if j != i], axis=0)\n",
    "    lagrange = lambda x: np.sum([ys[i] * l_i(x, i) for i in range(n)], axis=0)\n",
    "    return lagrange"
   ]
  },
  {
   "cell_type": "code",
   "execution_count": 823,
   "metadata": {},
   "outputs": [],
   "source": [
    "approx = build_lagrangian(sample_x, sample_y)"
   ]
  },
  {
   "cell_type": "code",
   "execution_count": 824,
   "metadata": {},
   "outputs": [],
   "source": [
    "y_pred = approx(x)"
   ]
  },
  {
   "cell_type": "code",
   "execution_count": 825,
   "metadata": {},
   "outputs": [
    {
     "data": {
      "image/png": "[encoded data removed]",
      "text/plain": [
       "<Figure size 432x288 with 1 Axes>"
      ]
     },
     "metadata": {
      "needs_background": "light"
     },
     "output_type": "display_data"
    }
   ],
   "source": [
    "plt.plot(x, y)\n",
    "plt.plot(x, y_pred);"
   ]
  },
  {
   "cell_type": "markdown",
   "metadata": {},
   "source": [
    "### 3D case"
   ]
  },
  {
   "cell_type": "code",
   "execution_count": 826,
   "metadata": {},
   "outputs": [],
   "source": [
    "f = lambda x, y: np.exp(x ** .5 + 3*y**.5 + 15)\n",
    "x = np.linspace(0, 2)\n",
    "y = np.linspace(0, 2)\n",
    "xx, yy = np.meshgrid(x, y)\n",
    "zz = f(xx, yy)"
   ]
  },
  {
   "cell_type": "code",
   "execution_count": 827,
   "metadata": {},
   "outputs": [
    {
     "data": {
      "image/png": "[encoded data removed]",
      "text/plain": [
       "<Figure size 432x288 with 1 Axes>"
      ]
     },
     "metadata": {
      "needs_background": "light"
     },
     "output_type": "display_data"
    }
   ],
   "source": [
    "plt.contourf(xx, yy, zz);"
   ]
  },
  {
   "cell_type": "code",
   "execution_count": 842,
   "metadata": {},
   "outputs": [],
   "source": [
    "n = 3\n",
    "xi = np.random.choice(np.arange(0, x.shape[0]), size=n, replace=False)\n",
    "yi = np.random.choice(np.arange(0, y.shape[0]), size=n, replace=False)\n",
    "sample_x, sample_y, sample_z = x[xi], y[yi], zz[xi, :][:, yi]"
   ]
  },
  {
   "cell_type": "code",
   "execution_count": 843,
   "metadata": {},
   "outputs": [
    {
     "data": {
      "text/plain": [
       "array([[3.13213855e+08, 3.32233458e+08, 1.43029788e+08],\n",
       "       [2.98711805e+07, 3.16850785e+07, 1.36407396e+07],\n",
       "       [3.90849558e+08, 4.14583513e+08, 1.78482301e+08]])"
      ]
     },
     "execution_count": 843,
     "metadata": {},
     "output_type": "execute_result"
    }
   ],
   "source": [
    "sample_z"
   ]
  },
  {
   "cell_type": "code",
   "execution_count": 844,
   "metadata": {},
   "outputs": [],
   "source": [
    "def build_lagrangian3D_bad(xs, ys, zs):\n",
    "    \"\"\" Build lagrangian polynomial of order n-1, where n - number of points \"\"\"\n",
    "    ls = []\n",
    "    n = xs.shape[0]\n",
    "    for i in range(n):\n",
    "        l_ix = lambda x, m: np.prod([(x - xs[j])/(xs[m] - xs[j]) for j in range(n) if j != m], axis=0)\n",
    "        l_iy = lambda y, m: np.prod([(y - ys[j])/(ys[m] - ys[j]) for j in range(n) if j != m], axis=0)\n",
    "        l_i = lambda x, y, m: l_ix(x, m) * l_iy(y, m)\n",
    "        ls.append(l_i)\n",
    "    lagrange = lambda x, y: np.sum([zs[i] * ls[i](x, y, i) for i in range(n)], axis=0)\n",
    "    return lagrange"
   ]
  },
  {
   "cell_type": "code",
   "execution_count": 845,
   "metadata": {},
   "outputs": [],
   "source": [
    "def build_lagrangian3D(xs, ys, zs):\n",
    "    \"\"\" Build lagrangian polynomial of order n-1, where n - number of points \"\"\"\n",
    "    ls = []\n",
    "    n = xs.shape[0]\n",
    "    m = ys.shape[0]\n",
    "    \n",
    "    l_ix = lambda x, m: np.prod([(x - xs[j])/(xs[m] - xs[j]) for j in range(n) if j != m], axis=0)\n",
    "    l_iy = lambda y, m: np.prod([(y - ys[j])/(ys[m] - ys[j]) for j in range(n) if j != m], axis=0)\n",
    "    l_i = lambda x, y, i, j: l_ix(x, i) * l_iy(y, j)\n",
    "\n",
    "    lagrange = lambda x, y: np.sum([zs[i, j] * l_i(x, y, i, j) for i in range(n) for j in range(m)], axis=0)\n",
    "    return lagrange"
   ]
  },
  {
   "cell_type": "code",
   "execution_count": 849,
   "metadata": {},
   "outputs": [],
   "source": [
    "# TODO: build lagrangian for arbitrary set of points, not in form of lattice!"
   ]
  },
  {
   "cell_type": "code",
   "execution_count": 846,
   "metadata": {},
   "outputs": [],
   "source": [
    "lagrange = build_lagrangian3D(sample_x, sample_y, sample_z)"
   ]
  },
  {
   "cell_type": "code",
   "execution_count": 847,
   "metadata": {},
   "outputs": [],
   "source": [
    "# zz_pred = lagrange(xx, yy)  # somehow x and y are swapped\n",
    "zz_pred = lagrange(yy, xx)  # somehow x and y are swapped"
   ]
  },
  {
   "cell_type": "code",
   "execution_count": 848,
   "metadata": {},
   "outputs": [
    {
     "data": {
      "image/png": "[encoded data removed]",
      "text/plain": [
       "<Figure size 432x288 with 1 Axes>"
      ]
     },
     "metadata": {
      "needs_background": "light"
     },
     "output_type": "display_data"
    }
   ],
   "source": [
    "plt.contourf(xx, yy, zz_pred);"
   ]
  },
  {
   "cell_type": "code",
   "execution_count": 718,
   "metadata": {},
   "outputs": [],
   "source": [
    "from tools import parse_file, gen_borders, gen_grid, rescale"
   ]
  },
  {
   "cell_type": "code",
   "execution_count": 719,
   "metadata": {},
   "outputs": [],
   "source": [
    "points = rescale(parse_file(\"../resources/demo4.mod1\"), 0.1, 0.9)\n",
    "points[:, :-1] += 1\n",
    "points = np.vstack([points, gen_borders(0, 3, 0, 3)])"
   ]
  }
 ],
 "metadata": {
  "kernelspec": {
   "display_name": "Python 3",
   "language": "python",
   "name": "python3"
  },
  "language_info": {
   "codemirror_mode": {
    "name": "ipython",
    "version": 3
   },
   "file_extension": ".py",
   "mimetype": "text/x-python",
   "name": "python",
   "nbconvert_exporter": "python",
   "pygments_lexer": "ipython3",
   "version": "3.6.2"
  }
 },
 "nbformat": 4,
 "nbformat_minor": 2
}
