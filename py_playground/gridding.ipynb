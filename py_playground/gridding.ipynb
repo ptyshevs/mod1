{
 "cells": [
  {
   "cell_type": "code",
   "execution_count": 1,
   "metadata": {},
   "outputs": [],
   "source": [
    "import numpy as np\n",
    "import matplotlib.pyplot as plt\n",
    "from tools import parse_file, rescale, center, gen_borders, gen_grid\n",
    "from interpol import idw_mesh"
   ]
  },
  {
   "cell_type": "code",
   "execution_count": 14,
   "metadata": {},
   "outputs": [],
   "source": [
    "points = center(rescale(parse_file('../resources/demo4.mod1')))"
   ]
  },
  {
   "cell_type": "code",
   "execution_count": 15,
   "metadata": {},
   "outputs": [
    {
     "data": {
      "text/plain": [
       "array([[1.        , 1.        , 0.4       ],\n",
       "       [0.66666667, 0.66666667, 1.        ],\n",
       "       [0.66666667, 1.33333333, 1.        ],\n",
       "       [1.33333333, 0.66666667, 1.        ],\n",
       "       [1.33333333, 1.33333333, 1.        ]])"
      ]
     },
     "execution_count": 15,
     "metadata": {},
     "output_type": "execute_result"
    }
   ],
   "source": [
    "points"
   ]
  },
  {
   "cell_type": "markdown",
   "metadata": {},
   "source": [
    "Centered and rescaled points are always within $[0, 2]$ boundary. Let's start by creating 4x4 grid in this bounds."
   ]
  },
  {
   "cell_type": "code",
   "execution_count": 86,
   "metadata": {},
   "outputs": [
    {
     "data": {
      "text/plain": [
       "array([[0. , 0. , 0. ],\n",
       "       [0. , 0.5, 0. ],\n",
       "       [0. , 1. , 0. ],\n",
       "       [0. , 1.5, 0. ],\n",
       "       [0. , 2. , 0. ],\n",
       "       [0.5, 0. , 0. ],\n",
       "       [0.5, 0.5, 0. ],\n",
       "       [0.5, 1. , 0. ],\n",
       "       [0.5, 1.5, 0. ],\n",
       "       [0.5, 2. , 0. ],\n",
       "       [1. , 0. , 0. ],\n",
       "       [1. , 0.5, 0. ],\n",
       "       [1. , 1. , 0. ],\n",
       "       [1. , 1.5, 0. ],\n",
       "       [1. , 2. , 0. ],\n",
       "       [1.5, 0. , 0. ],\n",
       "       [1.5, 0.5, 0. ],\n",
       "       [1.5, 1. , 0. ],\n",
       "       [1.5, 1.5, 0. ],\n",
       "       [1.5, 2. , 0. ],\n",
       "       [2. , 0. , 0. ],\n",
       "       [2. , 0.5, 0. ],\n",
       "       [2. , 1. , 0. ],\n",
       "       [2. , 1.5, 0. ],\n",
       "       [2. , 2. , 0. ]])"
      ]
     },
     "execution_count": 86,
     "metadata": {},
     "output_type": "execute_result"
    },
    {
     "data": {
      "image/png": "[encoded data removed]",
      "text/plain": [
       "<Figure size 432x288 with 1 Axes>"
      ]
     },
     "metadata": {
      "needs_background": "light"
     },
     "output_type": "display_data"
    }
   ],
   "source": [
    "x_grid = np.linspace(0, 2, 5)\n",
    "y_grid = np.linspace(0, 2, 5)\n",
    "xy = np.array([[x, y] for x in x_grid for y in y_grid])\n",
    "grid = np.hstack((xy, np.zeros(xy.shape[0])[:, None]))\n",
    "plt.scatter(grid[:, 0], grid[:, 1]);\n",
    "plt.scatter(points[:, 0], points[:, 1], c='red', s=15, marker='x')\n",
    "grid"
   ]
  },
  {
   "cell_type": "code",
   "execution_count": 87,
   "metadata": {},
   "outputs": [],
   "source": [
    "def random_grid(points, xmin=0, xmax=2, ymin=0, ymax=2):\n",
    "    \"\"\" Generate 4x4 grid by randomly sampling from outside of points provided \"\"\"\n",
    "    n = len(points)\n",
    "    n_gen = 16 - n\n",
    "    gen_points = []\n",
    "    \n",
    "    i = 0\n",
    "    for point in points:\n",
    "        # project point onto the bounding box\n",
    "        x, y, _ = point\n",
    "        gen_points.append([xmin, y])\n",
    "        i += 1 \n",
    "        if i == n_gen:\n",
    "            break\n",
    "        gen_points.append([xmax, y])\n",
    "        i += 1 \n",
    "        if i == n_gen:\n",
    "            break\n",
    "        gen_points.append([x, ymin])\n",
    "        i += 1 \n",
    "        if i == n_gen:\n",
    "            break\n",
    "        gen_points.append([x, ymax])\n",
    "        i += 1 \n",
    "        if i == n_gen:\n",
    "            break\n",
    "    gen_points = np.hstack((np.array(gen_points), np.zeros(len(gen_points))[:, None]))\n",
    "    return np.vstack([points, gen_points])\n"
   ]
  },
  {
   "cell_type": "code",
   "execution_count": 89,
   "metadata": {},
   "outputs": [
    {
     "data": {
      "text/plain": [
       "(-1, 3)"
      ]
     },
     "execution_count": 89,
     "metadata": {},
     "output_type": "execute_result"
    },
    {
     "data": {
      "image/png": "[encoded data removed]",
      "text/plain": [
       "<Figure size 432x288 with 1 Axes>"
      ]
     },
     "metadata": {
      "needs_background": "light"
     },
     "output_type": "display_data"
    }
   ],
   "source": [
    "grid = random_grid(points)\n",
    "plt.scatter(grid[:, 0], grid[:, 1]);\n",
    "plt.scatter(points[:, 0], points[:, 1], c='red', s=15, marker='x')\n",
    "plt.xlim(-1, 3)\n",
    "plt.ylim(-1, 3)"
   ]
  },
  {
   "cell_type": "code",
   "execution_count": null,
   "metadata": {},
   "outputs": [],
   "source": []
  }
 ],
 "metadata": {
  "kernelspec": {
   "display_name": "Python 3",
   "language": "python",
   "name": "python3"
  },
  "language_info": {
   "codemirror_mode": {
    "name": "ipython",
    "version": 3
   },
   "file_extension": ".py",
   "mimetype": "text/x-python",
   "name": "python",
   "nbconvert_exporter": "python",
   "pygments_lexer": "ipython3",
   "version": "3.6.2"
  }
 },
 "nbformat": 4,
 "nbformat_minor": 2
}
