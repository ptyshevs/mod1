{
 "cells": [
  {
   "cell_type": "code",
   "execution_count": 1,
   "metadata": {},
   "outputs": [],
   "source": [
    "import numpy as np\n",
    "import matplotlib.pyplot as plt\n",
    "from tools import parse_file, rescale, center, gen_borders, gen_grid\n",
    "from interpol import idw_mesh"
   ]
  },
  {
   "cell_type": "code",
   "execution_count": 14,
   "metadata": {},
   "outputs": [],
   "source": [
    "points = center(rescale(parse_file('../resources/demo4.mod1')))"
   ]
  },
  {
   "cell_type": "code",
   "execution_count": 15,
   "metadata": {},
   "outputs": [
    {
     "data": {
      "text/plain": [
       "array([[1.        , 1.        , 0.4       ],\n",
       "       [0.66666667, 0.66666667, 1.        ],\n",
       "       [0.66666667, 1.33333333, 1.        ],\n",
       "       [1.33333333, 0.66666667, 1.        ],\n",
       "       [1.33333333, 1.33333333, 1.        ]])"
      ]
     },
     "execution_count": 15,
     "metadata": {},
     "output_type": "execute_result"
    }
   ],
   "source": [
    "points"
   ]
  },
  {
   "cell_type": "markdown",
   "metadata": {},
   "source": [
    "Centered and rescaled points are always within $[0, 2]$ boundary. Let's start by creating 4x4 grid in this bounds."
   ]
  },
  {
   "cell_type": "code",
   "execution_count": 29,
   "metadata": {},
   "outputs": [
    {
     "data": {
      "text/plain": [
       "array([[0.        , 0.        , 0.        ],\n",
       "       [0.        , 0.66666667, 0.        ],\n",
       "       [0.        , 1.33333333, 0.        ],\n",
       "       [0.        , 2.        , 0.        ],\n",
       "       [0.66666667, 0.        , 0.        ],\n",
       "       [0.66666667, 0.66666667, 0.        ],\n",
       "       [0.66666667, 1.33333333, 0.        ],\n",
       "       [0.66666667, 2.        , 0.        ],\n",
       "       [1.33333333, 0.        , 0.        ],\n",
       "       [1.33333333, 0.66666667, 0.        ],\n",
       "       [1.33333333, 1.33333333, 0.        ],\n",
       "       [1.33333333, 2.        , 0.        ],\n",
       "       [2.        , 0.        , 0.        ],\n",
       "       [2.        , 0.66666667, 0.        ],\n",
       "       [2.        , 1.33333333, 0.        ],\n",
       "       [2.        , 2.        , 0.        ]])"
      ]
     },
     "execution_count": 29,
     "metadata": {},
     "output_type": "execute_result"
    },
    {
     "data": {
      "image/png": "[encoded data removed]",
      "text/plain": [
       "<Figure size 432x288 with 1 Axes>"
      ]
     },
     "metadata": {
      "needs_background": "light"
     },
     "output_type": "display_data"
    }
   ],
   "source": [
    "x_grid = np.linspace(0, 2, 4)\n",
    "y_grid = np.linspace(0, 2, 4)\n",
    "xy = np.array([[x, y] for x in x_grid for y in y_grid])\n",
    "grid = np.hstack((xy, np.zeros(xy.shape[0])[:, None]))\n",
    "plt.scatter(grid[:, 0], grid[:, 1]);\n",
    "plt.scatter(points[:, 0], points[:, 1], c='red', s=15, marker='x')\n",
    "grid"
   ]
  },
  {
   "cell_type": "code",
   "execution_count": 30,
   "metadata": {},
   "outputs": [],
   "source": [
    "d = lambda p1, p2: (p1 - p2) @ (p1 - p2)"
   ]
  },
  {
   "cell_type": "code",
   "execution_count": 37,
   "metadata": {},
   "outputs": [
    {
     "data": {
      "text/plain": [
       "array([[0.        , 0.        , 0.        ],\n",
       "       [0.        , 0.66666667, 0.        ],\n",
       "       [0.        , 1.33333333, 0.        ],\n",
       "       [0.        , 2.        , 0.        ],\n",
       "       [0.66666667, 0.        , 0.        ],\n",
       "       [0.66666667, 0.66666667, 0.        ],\n",
       "       [0.66666667, 1.33333333, 0.        ],\n",
       "       [0.66666667, 2.        , 0.        ],\n",
       "       [1.33333333, 0.        , 0.        ],\n",
       "       [1.33333333, 0.66666667, 0.        ],\n",
       "       [1.33333333, 1.33333333, 0.        ],\n",
       "       [1.33333333, 2.        , 0.        ],\n",
       "       [2.        , 0.        , 0.        ],\n",
       "       [2.        , 0.66666667, 0.        ],\n",
       "       [2.        , 1.33333333, 0.        ],\n",
       "       [2.        , 2.        , 0.        ]])"
      ]
     },
     "execution_count": 37,
     "metadata": {},
     "output_type": "execute_result"
    }
   ],
   "source": [
    "grid"
   ]
  },
  {
   "cell_type": "code",
   "execution_count": null,
   "metadata": {},
   "outputs": [],
   "source": []
  }
 ],
 "metadata": {
  "kernelspec": {
   "display_name": "Python 3",
   "language": "python",
   "name": "python3"
  },
  "language_info": {
   "codemirror_mode": {
    "name": "ipython",
    "version": 3
   },
   "file_extension": ".py",
   "mimetype": "text/x-python",
   "name": "python",
   "nbconvert_exporter": "python",
   "pygments_lexer": "ipython3",
   "version": "3.6.2"
  }
 },
 "nbformat": 4,
 "nbformat_minor": 2
}
